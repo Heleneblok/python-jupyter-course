{
 "cells": [
  {
   "cell_type": "markdown",
   "metadata": {},
   "source": [
    "## Python opdrachten conditional iteration"
   ]
  },
  {
   "cell_type": "markdown",
   "metadata": {},
   "source": [
    "### loops"
   ]
  },
  {
   "cell_type": "markdown",
   "metadata": {},
   "source": [
    "In this assignment you want to implement a function called talking_parrot. This function will help you know at any moment if you are in trouble because of your pet parrot Pirate. The input is a Boolean is_talking telling you if Pirate is talking and an Integer hour representing the current hour in the range 0..23. If Pirate is talking before 7 or after 20 your roommates will be very angry with you and you will be in trouble. Your implementation should return a Boolean indicating whether you are in trouble."
   ]
  },
  {
   "cell_type": "code",
   "execution_count": 1,
   "metadata": {},
   "outputs": [],
   "source": [
    "def talking_parrot(is_talking, hour):\n",
    "    if is_talking:\n",
    "        if hour < 7 or hour > 20:\n",
    "            Trouble = True\n",
    "        else:\n",
    "            Trouble = False\n",
    "    else:\n",
    "        Trouble = False\n",
    "            \n",
    "    return Trouble\n",
    "\n"
   ]
  },
  {
   "cell_type": "markdown",
   "metadata": {},
   "source": [
    " "
   ]
  },
  {
   "cell_type": "markdown",
   "metadata": {},
   "source": [
    "In this assignment you have to implement the function alarm_clock. The input to the function is a Boolean on_vacation that indicates if we are on vacation and an Integer day indicating the day of the week in the form 0 = Mon, 1 = Tue, 2 = Wed, … , 6 = Sun.\n",
    "\n",
    "The function should return a string with the alarm time. On regular weekdays we set the alarm for \"07:00\" and on regular weekend days we have an alarm for \"10:00\". When we are on vacation we like to sleep in, so the alarm is set for \"10:00\" on weekdays and is \"off\" during the weekend."
   ]
  },
  {
   "cell_type": "code",
   "execution_count": null,
   "metadata": {},
   "outputs": [],
   "source": [
    "def alarm_clock(on_vacation, day):\n",
    "    if on_vacation:\n",
    "        if day < 5:\n",
    "            alarm_time = \"10:00\"\n",
    "        else:\n",
    "            alarm_time = \"off\"\n",
    "    else:\n",
    "        if day < 5:\n",
    "            alarm_time = \"07:00\"\n",
    "        else:\n",
    "            alarm_time = \"10:00\"\n",
    "    return alarm_time\n",
    "\n"
   ]
  },
  {
   "cell_type": "markdown",
   "metadata": {},
   "source": [
    " "
   ]
  },
  {
   "cell_type": "markdown",
   "metadata": {},
   "source": [
    "In this assignment you will implement the function is_leap_year. This function takes as input an Integer year representing the year (in the Gregorian calendar) about which you want to know if it is a leap year or not, and should return a Boolean indicating if the year is a leap year.\n",
    "\n",
    "(Feel free to look up the rules for determining whether a year is a leap year, if you do not know them by heart.)"
   ]
  },
  {
   "cell_type": "code",
   "execution_count": null,
   "metadata": {},
   "outputs": [],
   "source": [
    "def is_leap_year(year):\n",
    "    if (year % 4) == 0:\n",
    "        if (year % 100) == 0:\n",
    "            if (year % 400) == 0:\n",
    "                leapyear = True\n",
    "            else:\n",
    "                 leapyear = False\n",
    "        else:\n",
    "             leapyear = True\n",
    "    else:\n",
    "       leapyear = False\n",
    "    return leapyear\n",
    "0"
   ]
  },
  {
   "cell_type": "markdown",
   "metadata": {},
   "source": [
    "  "
   ]
  },
  {
   "cell_type": "markdown",
   "metadata": {},
   "source": [
    "Implement the function table(n) that prints the multiplication table of the number n.\n",
    "\n",
    "For example for n = 2 the output looks like this:\n",
    "\n",
    "1 * 2 = 2  \n",
    "2 * 2 = 4  \n",
    "3 * 2 = 6  \n",
    "4 * 2 = 8  \n",
    "5 * 2 = 10  \n",
    "6 * 2 = 12  \n",
    "7 * 2 = 14  \n",
    "8 * 2 = 16  \n",
    "9 * 2 = 18  \n",
    "10 * 2 = 20  \n",
    "  \n",
    "Note: the format of the printing needs to be exactly as specified in the example.\n",
    "Do not use more whitespaces, otherwise the tests will fail."
   ]
  },
  {
   "cell_type": "code",
   "execution_count": null,
   "metadata": {},
   "outputs": [],
   "source": [
    "def table(n):\n",
    "    \"\"\"Prints the multiplication table of n\"\"\"\n",
    "    for i in range(1, 11):\n",
    "        print(f\"{i} * {n} = {i * n}\")"
   ]
  },
  {
   "cell_type": "markdown",
   "metadata": {},
   "source": [
    "  "
   ]
  },
  {
   "cell_type": "markdown",
   "metadata": {},
   "source": [
    "Implement the following two functions:\n",
    "\n",
    "square(n) prints a square of the symbol * of size n. For example with n = 4, the output should be\n",
    "\n",
    "****\n",
    "****\n",
    "****\n",
    "****\n",
    "triangle(n) prints a triangle of the symbol * of size n. For example with n = 3, the output should be\n",
    "\n",
    "*\n",
    "**\n",
    "***"
   ]
  },
  {
   "cell_type": "code",
   "execution_count": 3,
   "metadata": {},
   "outputs": [],
   "source": [
    "def square(n):\n",
    "    for i in range (1, n+1):\n",
    "        print((n*'*'))\n",
    "\n",
    "\n",
    "def triangle(n):\n",
    "    for i in range (1, n+1):\n",
    "        print(i*'*')\n",
    "        "
   ]
  },
  {
   "cell_type": "markdown",
   "metadata": {},
   "source": [
    "  "
   ]
  },
  {
   "cell_type": "markdown",
   "metadata": {},
   "source": [
    "The Basel problem asks for the value of (zie formule https://en.wikipedia.org/wiki/Basel_problem)\n",
    "Leonhard Euler discovered in 1734 that the sum of the series is exactly equal to π26 (which approximately equals 1.644934).\n",
    "\n",
    "In this exercise, you will calculate partial sums of this series.\n",
    "\n",
    "Exercise\n",
    "Implement the function basel_sum that takes an int n which indicates the number of fractions in the series, and returns the sum of this series. For example for n = 2 you would calculate 112+122.\n",
    "\n",
    "(For negative values of n the function should return 0.)\n",
    "\n",
    "Just to explore the function you wrote, try it out with several values of n and find out how large n should be before it approximates π26 well up to 6 decimal places. (You can do this outside of WebLab in a Python shell.)"
   ]
  },
  {
   "cell_type": "code",
   "execution_count": null,
   "metadata": {},
   "outputs": [],
   "source": [
    "def basel_sum(n):\n",
    "    sumserie = 0\n",
    "    if n < 0:\n",
    "        sumserie = 0\n",
    "        return sumserie\n",
    "    else:\n",
    "        for i in range(1, n+1):\n",
    "            sumserie += 1/ (i ** 2)\n",
    "            \n",
    "        return(sumserie)\n"
   ]
  },
  {
   "cell_type": "markdown",
   "metadata": {},
   "source": [
    "  "
   ]
  },
  {
   "cell_type": "markdown",
   "metadata": {},
   "source": [
    "Loops can be used to compute numerical results by starting with an approximate answer and iteratively improving it.\n",
    "\n",
    "For example, one way of computing square roots is Newton’s method. It works as follows:\n",
    "\n",
    "Suppose that you want to know the square root of a. If you start with any positive estimate, x, you can compute a better estimate with the following formula:\n",
    "\n",
    "y=x+a/x/2\n",
    "For example, if a is 4 and x is 3:\n",
    "\n",
    ">>> a = 4  \n",
    ">>> x = 3  \n",
    ">>> y = (x + a/x) / 2  \n",
    ">>> y\n",
    "2.16666666667\n",
    "The result is closer to the correct answer 4–√=2. If we repeat the process with the new estimate, it gets even closer:\n",
    "\n",
    ">>> x = y  \n",
    ">>> y = (x + a/x) / 2  \n",
    ">>> y  \n",
    "2.00641025641\n",
    "After a few more updates, the estimate is almost exact:\n",
    "\n",
    ">>> x = y  \n",
    ">>> y = (x + a/x) / 2  \n",
    ">>> y\n",
    "2.00001024003\n",
    ">>> x = y  \n",
    ">>> y = (x + a/x) / 2  \n",
    ">>> y\n",
    "2.00000000003\n",
    "With this in mind, we can construct a loop to automate looking for the value of y.\n",
    "\n",
    "This exercise is based on Think Python, section 7.5, but try to do this exercise without looking at the solution in the book.\n",
    "\n",
    "Exercise\n",
    "Implement the function square_root that takes three parameters a, x and epsilon.\n",
    "- a is the number you want to find the square root of.\n",
    "- x is a positive start value of x in the formula. Your code should return -1 on invalid input.\n",
    "- epsilon is a small number and should be used to find out whether you are close enough to stop. This means that you can end your loop when the difference between y and x is smaller than or equal to epsilon.\n",
    "\n",
    "The function should return -1 if there is no square root (or an imaginary one).\n",
    "\n",
    "Do not use math.sqrt() or **0.5 in your solution! The point of this assignment is to implement an algorithm that can compute square roots from scratch (using only basic mathematical operations like + and /). Using an existing implementation for this defeats the purpose."
   ]
  },
  {
   "cell_type": "code",
   "execution_count": null,
   "metadata": {},
   "outputs": [],
   "source": [
    "def square_root(a, x, epsilon):\n",
    "    y = (x + a/x) / 2\n",
    "\n",
    "    if a <= 0 or x <= 0:\n",
    "        return(-1)\n",
    "\n",
    "    while abs(y-x) >= epsilon:\n",
    "        x = y\n",
    "        y = (x + a/x) / 2\n",
    "    return (y)\n",
    "\n"
   ]
  },
  {
   "cell_type": "markdown",
   "metadata": {},
   "source": [
    "  "
   ]
  },
  {
   "cell_type": "markdown",
   "metadata": {},
   "source": [
    "Some friends are going on a hiking trip. On the second to last day they decide to go fishing.\n",
    "The fishing is successful: they have enough fish to cook dinner and save some fish for their families at home.\n",
    "All fish left after cooking dinner are piled up before everyone goes to sleep.\n",
    "\n",
    "During the last night one person wakes up and decides to take his part of the fish already.\n",
    "He notices the fish cannot be distributed equally among the number of people without cutting up a fish, which would be noticed by the others.\n",
    "He decides to throw away one fish, after which he can take his part of the catch.\n",
    "\n",
    "After a while a second person comes up with the same plan.\n",
    "Without knowing about the first person’s actions, she tries to take her part of the remaining fish.\n",
    "(She thinks all the people are still there, and she does not know someone else took some fish away already.)\n",
    "Again the fish cannot be divided equally among the group until she throws away one fish.\n",
    "After this she takes her share.\n",
    "\n",
    "Throughout the night more people wake up and have the same plan.\n",
    "None of them know the others did the same thing, but all of them have to throw away one fish before they can take their fair share of the pile of fish that is left by that point.\n",
    "\n",
    "What is the lowest number of fish this story could work with? Find the minimum number of fish needed so that everyone needs to throw away one fish before they can take their part.\n",
    "\n",
    "Create the function fishing_trip that returns the minimum number of fish required to make the story work for n people. In your implementation, the idea is to try different numbers of fish and see whether the story works for that number of fish. You are supposed to use one or more loops while doing this. (A purely mathematical solution to this problem exists as well, but the purpose of this assignment is to practise turning the story into code and to write loops.)\n",
    "\n",
    "You can assume at least 2 people took part in the trip.\n",
    "For n <= 1 your implementation should return -1. For n == 2, assume that ending up with 0 fish is fine, and that these 0 fish can be “distributed equally”."
   ]
  },
  {
   "cell_type": "code",
   "execution_count": null,
   "metadata": {},
   "outputs": [],
   "source": [
    "def fishing_trip(n):\n",
    "    \"\"\"Returns the minimum amount of fish required to make the story work out with n people\"\"\"\n",
    "    if n <= 1:\n",
    "        return -1\n",
    "    i = 1\n",
    "    while not is_solution(i, n):\n",
    "        i += 1\n",
    "    return i\n",
    "\n",
    "\n",
    "def is_solution(number, n):\n",
    "    for _ in range(n):\n",
    "        if not number % n == 1:\n",
    "            return False\n",
    "\n",
    "        number = (number - 1) // n * (n - 1)\n",
    "\n",
    "    return True\n"
   ]
  },
  {
   "cell_type": "markdown",
   "metadata": {},
   "source": [
    " "
   ]
  },
  {
   "cell_type": "markdown",
   "metadata": {},
   "source": [
    "In this assignment you will implement the modified_palindromes function. It takes as input the name of a file with words (one word per line). It returns a list of words for which the following holds: if you take the first letter and put it at the end and spell the word backwards, you wind up with the original word. For instance, if you take the word “assess”, put the first letter at the end (“ssessa”) and then spell the word backwards, you get “assess” again.\n",
    "\n",
    "Hint: this assignment asks you to create and return a list. As we have not formally discussed lists yet, here is how to do it:\n",
    "\n",
    "You can create an empty list at the beginning of your method as follows: result = []\n",
    "You can add a word to the list as follows: result.append(word)\n",
    "At the end of the method you can return the result: return result\n",
    "Do not use either of the methods read() and readlines() of the file object. These methods read the entire file into memory at once, which should generally be avoided because this will break when reading very large files."
   ]
  },
  {
   "cell_type": "code",
   "execution_count": 6,
   "metadata": {},
   "outputs": [
    {
     "ename": "NameError",
     "evalue": "name 'one_word' is not defined",
     "output_type": "error",
     "traceback": [
      "\u001b[1;31m---------------------------------------------------------------------------\u001b[0m",
      "\u001b[1;31mNameError\u001b[0m                                 Traceback (most recent call last)",
      "\u001b[1;32m<ipython-input-6-a7ce255e5213>\u001b[0m in \u001b[0;36m<module>\u001b[1;34m\u001b[0m\n\u001b[1;32m----> 1\u001b[1;33m \u001b[0mfilename\u001b[0m \u001b[1;33m=\u001b[0m \u001b[0mone_word\u001b[0m\u001b[1;33m.\u001b[0m\u001b[0mtxt\u001b[0m\u001b[1;33m\u001b[0m\u001b[0m\n\u001b[0m\u001b[0;32m      2\u001b[0m \u001b[1;33m\u001b[0m\u001b[0m\n\u001b[0;32m      3\u001b[0m \u001b[1;32mdef\u001b[0m \u001b[0mmodified_palindromes\u001b[0m\u001b[1;33m(\u001b[0m\u001b[0mfilename\u001b[0m\u001b[1;33m)\u001b[0m\u001b[1;33m:\u001b[0m\u001b[1;33m\u001b[0m\u001b[0m\n\u001b[0;32m      4\u001b[0m     \"\"\"Returns a list of all words that spell the same backwards after moving the first letter to the end,\n\u001b[0;32m      5\u001b[0m     \u001b[1;32mas\u001b[0m \u001b[0mfound\u001b[0m \u001b[1;32min\u001b[0m \u001b[0mthe\u001b[0m \u001b[0mfile\u001b[0m \u001b[1;32mwith\u001b[0m \u001b[0mthe\u001b[0m \u001b[0mgiven\u001b[0m \u001b[0mname\u001b[0m\u001b[1;33m.\u001b[0m\u001b[1;33m\u001b[0m\u001b[0m\n",
      "\u001b[1;31mNameError\u001b[0m: name 'one_word' is not defined"
     ]
    }
   ],
   "source": [
    "filename = one_word.txt\n",
    "\n",
    "def modified_palindromes(filename):\n",
    "    \"\"\"Returns a list of all words that spell the same backwards after moving the first letter to the end,\n",
    "    as found in the file with the given name.\n",
    "    \"\"\"\n",
    "    res = []\n",
    "    with open(filename) as f:\n",
    "        for line in f:\n",
    "            word = line.strip().lower()\n",
    "            # Ignore first letter and compare with the reverse, ignoring its last letter.\n",
    "            if word[1:] == word[::-1][:-1]:\n",
    "                res.append(word)\n",
    "    return res\n"
   ]
  },
  {
   "cell_type": "markdown",
   "metadata": {},
   "source": [
    "  "
   ]
  },
  {
   "cell_type": "markdown",
   "metadata": {},
   "source": [
    "Implement the function words_all_vowels that returns the list of all words in the given file that contain all vowels (case insensitive).\n",
    "Remember that the vowels are ‘a’, ‘e’, ‘i’, ‘o’, and ‘u’.\n",
    "Words are separated by newlines.\n",
    "\n",
    "As an example, with a file containing the following lines:\n",
    "\n",
    "Aboideaus\n",
    "seagull\n",
    "multidirectional\n",
    "lifeguard\n",
    "complaint\n",
    "overqualified\n",
    "the result should be\n",
    "['Aboideaus', 'multidirectional', 'overqualified']\n",
    "\n",
    "See the previous hint about creating a list.\n",
    "\n",
    "Do not use either of the methods read() and readlines() of the file object. These methods read the entire file into memory at once, which should generally be avoided because this will break when reading very large files."
   ]
  },
  {
   "cell_type": "code",
   "execution_count": 8,
   "metadata": {},
   "outputs": [],
   "source": [
    "def words_all_vowels(filename):\n",
    "    \"\"\"Returns a list of all words that contain all vowels, as found in the file with the given name.\"\"\"\n",
    "    res = []\n",
    "    with open(filename) as f:\n",
    "        for line in f:\n",
    "            stripped = line.strip()\n",
    "            word = stripped.lower()\n",
    "            if 'a' in word and 'e' in word and 'i' in word and 'o' in word and 'u' in word:\n",
    "                res.append(stripped)\n",
    "    return res\n",
    "\n",
    "    # Alternative solution using a list comprehension:\n",
    "    # with open(filename) as f:\n",
    "    #     return [w for line in f for w in line.split() if all(x in w.lower() for x in ['a', 'e', 'i', 'o', 'u'])]\n",
    "\n",
    "    # Another alternative, using sets and a list comprehension:\n",
    "    # with open(filename) as f:\n",
    "    #     return [w for line in f for w in line.split() if {'a', 'e', 'i', 'o', 'u'}.issubset(set(w))]\n"
   ]
  },
  {
   "cell_type": "markdown",
   "metadata": {},
   "source": [
    "  "
   ]
  },
  {
   "cell_type": "markdown",
   "metadata": {},
   "source": [
    "## Andere opdrachten\n"
   ]
  },
  {
   "cell_type": "markdown",
   "metadata": {},
   "source": []
  },
  {
   "cell_type": "code",
   "execution_count": null,
   "metadata": {},
   "outputs": [],
   "source": []
  },
  {
   "cell_type": "markdown",
   "metadata": {},
   "source": [
    "  "
   ]
  },
  {
   "cell_type": "markdown",
   "metadata": {},
   "source": []
  },
  {
   "cell_type": "code",
   "execution_count": null,
   "metadata": {},
   "outputs": [],
   "source": []
  },
  {
   "cell_type": "markdown",
   "metadata": {},
   "source": [
    "  "
   ]
  }
 ],
 "metadata": {
  "kernelspec": {
   "display_name": "Python 3",
   "language": "python",
   "name": "python3"
  },
  "language_info": {
   "codemirror_mode": {
    "name": "ipython",
    "version": 3
   },
   "file_extension": ".py",
   "mimetype": "text/x-python",
   "name": "python",
   "nbconvert_exporter": "python",
   "pygments_lexer": "ipython3",
   "version": "3.6.4"
  }
 },
 "nbformat": 4,
 "nbformat_minor": 4
}
